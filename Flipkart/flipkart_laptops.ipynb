{
 "cells": [
  {
   "cell_type": "code",
   "execution_count": 2,
   "metadata": {},
   "outputs": [],
   "source": [
    "# Import Libraries \n",
    "from bs4 import BeautifulSoup \n",
    "import requests\n",
    "import pandas as pd "
   ]
  },
  {
   "cell_type": "code",
   "execution_count": 3,
   "metadata": {},
   "outputs": [],
   "source": [
    "laptop_names = []\n",
    "laptop_prices = []\n",
    "laptop_ratings = []\n",
    "\n",
    "laptop_dict = {}\n",
    "\n",
    "for i in range(1,40): \n",
    "    \n",
    "    url = f\"https://www.flipkart.com/laptops/pr?sid=6bo%2Cb5g&marketplace=FLIPKART&page={i}\"\n",
    "\n",
    "    r = requests.get(url).content\n",
    "\n",
    "    soup = BeautifulSoup(r , 'lxml')\n",
    "\n",
    "    laptops_full_div = soup.find_all('div','_2kHMtA')\n",
    "\n",
    "    for laptop in laptops_full_div : \n",
    "        name = laptop.find('div','_4rR01T').text\n",
    "        laptop_names.append(name)\n",
    "      \n",
    "        price = int((laptop.find('div','_30jeq3 _1_WHN1').text).replace('₹','').replace(',',''))\n",
    "        laptop_prices.append(price)\n",
    "\n",
    "        rating = soup.find('div','_3LWZlK').text\n",
    "        laptop_ratings.append(rating)\n",
    "\n",
    "\n",
    "\n"
   ]
  },
  {
   "cell_type": "code",
   "execution_count": 4,
   "metadata": {},
   "outputs": [],
   "source": [
    "laptop_dict = {\n",
    "                'Name' : laptop_names , \n",
    "                'Price' : laptop_prices , \n",
    "                'Rating' : laptop_ratings \n",
    "              }"
   ]
  },
  {
   "cell_type": "code",
   "execution_count": 5,
   "metadata": {},
   "outputs": [
    {
     "data": {
      "text/html": [
       "<div>\n",
       "<style scoped>\n",
       "    .dataframe tbody tr th:only-of-type {\n",
       "        vertical-align: middle;\n",
       "    }\n",
       "\n",
       "    .dataframe tbody tr th {\n",
       "        vertical-align: top;\n",
       "    }\n",
       "\n",
       "    .dataframe thead th {\n",
       "        text-align: right;\n",
       "    }\n",
       "</style>\n",
       "<table border=\"1\" class=\"dataframe\">\n",
       "  <thead>\n",
       "    <tr style=\"text-align: right;\">\n",
       "      <th></th>\n",
       "      <th>Name</th>\n",
       "      <th>Price</th>\n",
       "      <th>Rating</th>\n",
       "    </tr>\n",
       "  </thead>\n",
       "  <tbody>\n",
       "    <tr>\n",
       "      <th>0</th>\n",
       "      <td>acer Aspire 7 Core i5 12th Gen - (8 GB/512 GB ...</td>\n",
       "      <td>57490</td>\n",
       "      <td>4.3</td>\n",
       "    </tr>\n",
       "    <tr>\n",
       "      <th>1</th>\n",
       "      <td>acer Aspire 7 Core i5 12th Gen - (16 GB/512 GB...</td>\n",
       "      <td>53990</td>\n",
       "      <td>4.3</td>\n",
       "    </tr>\n",
       "    <tr>\n",
       "      <th>2</th>\n",
       "      <td>DELL Inspiron Ryzen 3 Dual Core 3250U - (8 GB/...</td>\n",
       "      <td>39690</td>\n",
       "      <td>4.3</td>\n",
       "    </tr>\n",
       "    <tr>\n",
       "      <th>3</th>\n",
       "      <td>Lenovo IdeaPad 3 Ryzen 5 Hexa Core 5500U - (8 ...</td>\n",
       "      <td>44999</td>\n",
       "      <td>4.3</td>\n",
       "    </tr>\n",
       "    <tr>\n",
       "      <th>4</th>\n",
       "      <td>ASUS Vivobook 15 Core i3 10th Gen - (8 GB/256 ...</td>\n",
       "      <td>27990</td>\n",
       "      <td>4.3</td>\n",
       "    </tr>\n",
       "  </tbody>\n",
       "</table>\n",
       "</div>"
      ],
      "text/plain": [
       "                                                Name  Price Rating\n",
       "0  acer Aspire 7 Core i5 12th Gen - (8 GB/512 GB ...  57490    4.3\n",
       "1  acer Aspire 7 Core i5 12th Gen - (16 GB/512 GB...  53990    4.3\n",
       "2  DELL Inspiron Ryzen 3 Dual Core 3250U - (8 GB/...  39690    4.3\n",
       "3  Lenovo IdeaPad 3 Ryzen 5 Hexa Core 5500U - (8 ...  44999    4.3\n",
       "4  ASUS Vivobook 15 Core i3 10th Gen - (8 GB/256 ...  27990    4.3"
      ]
     },
     "execution_count": 5,
     "metadata": {},
     "output_type": "execute_result"
    }
   ],
   "source": [
    "gaming_laptops = pd.DataFrame(data = laptop_dict, columns=['Name','Price','Rating'])\n",
    "gaming_laptops.head()"
   ]
  },
  {
   "cell_type": "code",
   "execution_count": null,
   "metadata": {},
   "outputs": [],
   "source": [
    "gaming_laptops.to_csv('Flipkart_laptops.csv')"
   ]
  }
 ],
 "metadata": {
  "kernelspec": {
   "display_name": "Python 3",
   "language": "python",
   "name": "python3"
  },
  "language_info": {
   "codemirror_mode": {
    "name": "ipython",
    "version": 3
   },
   "file_extension": ".py",
   "mimetype": "text/x-python",
   "name": "python",
   "nbconvert_exporter": "python",
   "pygments_lexer": "ipython3",
   "version": "3.11.0 (main, Oct 24 2022, 18:26:48) [MSC v.1933 64 bit (AMD64)]"
  },
  "orig_nbformat": 4,
  "vscode": {
   "interpreter": {
    "hash": "318f2c383d48220c821fefd227250c35bb828f95042f5889a5ad1704b1baf79c"
   }
  }
 },
 "nbformat": 4,
 "nbformat_minor": 2
}

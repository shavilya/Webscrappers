{
 "cells": [
  {
   "cell_type": "code",
   "execution_count": 1,
   "metadata": {},
   "outputs": [],
   "source": [
    "from bs4 import BeautifulSoup\n",
    "import requests\n",
    "import numpy as np \n",
    "from time import sleep \n",
    "from random import randint\n",
    "from warnings import warn\n",
    "from requests import get\n"
   ]
  },
  {
   "cell_type": "code",
   "execution_count": 10,
   "metadata": {},
   "outputs": [],
   "source": [
    "headers = {'Accept-Language': 'en-US,en;q=0.8'}\n",
    "pages = np.arange(1, 9951, 50)\n",
    "title_list = []\n",
    "year_list = []\n",
    "rating_list = []\n",
    "certificate_list = []\n",
    "genre_list = []\n",
    "time_list = []\n",
    "vote_list = []"
   ]
  },
  {
   "cell_type": "code",
   "execution_count": 3,
   "metadata": {},
   "outputs": [],
   "source": [
    "genre = 'drama'"
   ]
  },
  {
   "cell_type": "code",
   "execution_count": 12,
   "metadata": {},
   "outputs": [],
   "source": [
    "\"\"\"r = get(f\"https://www.imdb.com/search/title?genres={genre}&\"\n",
    "                  + \"start=\"\n",
    "                  + str(0)\n",
    "                  + \"&explore=title_type,genres&ref_=adv_prv\", headers=headers)\"\"\"\n",
    "\n",
    "\n",
    "for page in pages : \n",
    "\n",
    "    url = f'https://www.imdb.com/search/title/?genres={genre}&start={pages}&explore=title_type,genres&ref_=adv_prv'\n",
    "    r = requests.get(url).content\n",
    "\n",
    "    sleep(randint(8,15))\n",
    "\n",
    "    soup = BeautifulSoup(r , 'lxml')\n",
    "            \n",
    "    container = soup.find_all('div' , class_ = 'lister-item-content')\n",
    "\n",
    "    for element in container : \n",
    "\n",
    "        title = element.h3.a.text \n",
    "        title_list.append(title)\n",
    "\n",
    "        release_yr = element.find_all('span' , class_ = 'lister-item-year text-muted unbold')\n",
    "        for yr in release_yr : \n",
    "            years_in_term = yr.text \n",
    "            year_list.append(years_in_term)\n",
    "                    \n",
    "        certificates = element.find_all('span'  , class_ = 'certificate')\n",
    "        for certificate in certificates : \n",
    "            certification = certificate.text \n",
    "            certificate_list.append(certification)\n",
    "\n",
    "        runtime = element.find_all('span' , class_ = 'runtime')\n",
    "        for time in runtime : \n",
    "            duration = time.text \n",
    "            time_list.append(duration)\n",
    "\n",
    "        genres = element.find_all('span' , class_ = 'genre')\n",
    "        for genre in genres : \n",
    "            genre_type = genre.text \n",
    "            genre_list.append(genre_type)\n",
    "\n",
    "\n",
    "        rating = element.find_all('div' , class_ = 'inline-block ratings-imdb-rating')\n",
    "        for rat in rating : \n",
    "            ratings  = rat.strong.text\n",
    "            rating_list.append(ratings)\n",
    "                    \n",
    "        votes = element.find_all('span' , attrs= {'name' : 'nv'})\n",
    "        for vote in votes : \n",
    "            total_votes = vote.text \n",
    "            vote_list.append(total_votes)\n",
    "\n"
   ]
  }
 ],
 "metadata": {
  "kernelspec": {
   "display_name": "webscrapper",
   "language": "python",
   "name": "python3"
  },
  "language_info": {
   "codemirror_mode": {
    "name": "ipython",
    "version": 3
   },
   "file_extension": ".py",
   "mimetype": "text/x-python",
   "name": "python",
   "nbconvert_exporter": "python",
   "pygments_lexer": "ipython3",
   "version": "3.10.6 | packaged by conda-forge | (main, Aug 22 2022, 20:30:19) [MSC v.1929 64 bit (AMD64)]"
  },
  "orig_nbformat": 4,
  "vscode": {
   "interpreter": {
    "hash": "a5de0eb3511747baffff99c3af738513a637dd1c1167328c5fd178c6b127ed74"
   }
  }
 },
 "nbformat": 4,
 "nbformat_minor": 2
}

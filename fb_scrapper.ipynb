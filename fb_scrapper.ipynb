{
 "cells": [
  {
   "attachments": {},
   "cell_type": "markdown",
   "metadata": {},
   "source": [
    "# Web Scraping Facebook with Selenium\n",
    "\n",
    "Download your <b>entire</b> image gallery with a <b>100% automation</b>\n",
    "<br>\n",
    "Targeting:\n",
    "<ul>\n",
    "    <li>images uploaded by yourself</li>\n",
    "    <li>images you were tagged in, uploaded by others</li>\n",
    "</ul>\n",
    "\n",
    "### Download ChromeDriver\n",
    "You can either download latest stable release of ChromeDriver from:\n",
    "https://chromedriver.chromium.org/\n",
    "<br>\n",
    "### OR!! Use webdriver_manager Istead\n",
    "Or, you can install a library named webdriver_manager that will install it for you.\n",
    "<br>\n",
    "https://pypi.org/project/webdriver-manager/\n",
    "<br>\n",
    "<br>\n",
    "Thank you so much to <b>Avishek2020</b> for pointing this INREDIBLE alternative on Github:\n",
    "<br>\n",
    "https://github.com/MariyaSha/TwitterBot/issues/1"
   ]
  },
  {
   "attachments": {},
   "cell_type": "markdown",
   "metadata": {},
   "source": [
    "## Install Requirements"
   ]
  },
  {
   "cell_type": "code",
   "execution_count": 1,
   "metadata": {},
   "outputs": [
    {
     "name": "stdout",
     "output_type": "stream",
     "text": [
      "Requirement already satisfied: webdriver_manager in c:\\users\\asus\\miniconda3\\envs\\webscrapper\\lib\\site-packages (3.8.4)\n",
      "Requirement already satisfied: tqdm in c:\\users\\asus\\miniconda3\\envs\\webscrapper\\lib\\site-packages (from webdriver_manager) (4.64.1)\n",
      "Requirement already satisfied: python-dotenv in c:\\users\\asus\\miniconda3\\envs\\webscrapper\\lib\\site-packages (from webdriver_manager) (0.21.0)\n",
      "Requirement already satisfied: requests in c:\\users\\asus\\miniconda3\\envs\\webscrapper\\lib\\site-packages (from webdriver_manager) (2.28.1)\n",
      "Requirement already satisfied: urllib3<1.27,>=1.21.1 in c:\\users\\asus\\miniconda3\\envs\\webscrapper\\lib\\site-packages (from requests->webdriver_manager) (1.26.11)\n",
      "Requirement already satisfied: idna<4,>=2.5 in c:\\users\\asus\\miniconda3\\envs\\webscrapper\\lib\\site-packages (from requests->webdriver_manager) (3.4)\n",
      "Requirement already satisfied: charset-normalizer<3,>=2 in c:\\users\\asus\\miniconda3\\envs\\webscrapper\\lib\\site-packages (from requests->webdriver_manager) (2.1.1)\n",
      "Requirement already satisfied: certifi>=2017.4.17 in c:\\users\\asus\\miniconda3\\envs\\webscrapper\\lib\\site-packages (from requests->webdriver_manager) (2022.12.7)\n",
      "Requirement already satisfied: colorama in c:\\users\\asus\\appdata\\roaming\\python\\python310\\site-packages (from tqdm->webdriver_manager) (0.4.5)\n"
     ]
    }
   ],
   "source": [
    "!pip install webdriver_manager"
   ]
  },
  {
   "cell_type": "code",
   "execution_count": 2,
   "metadata": {},
   "outputs": [
    {
     "name": "stdout",
     "output_type": "stream",
     "text": [
      "Requirement already satisfied: wget in c:\\users\\asus\\miniconda3\\envs\\webscrapper\\lib\\site-packages (3.2)\n",
      "Requirement already satisfied: selenium in c:\\users\\asus\\miniconda3\\envs\\webscrapper\\lib\\site-packages (4.6.0)\n",
      "Requirement already satisfied: trio~=0.17 in c:\\users\\asus\\miniconda3\\envs\\webscrapper\\lib\\site-packages (from selenium) (0.22.0)\n",
      "Requirement already satisfied: trio-websocket~=0.9 in c:\\users\\asus\\miniconda3\\envs\\webscrapper\\lib\\site-packages (from selenium) (0.9.2)\n",
      "Requirement already satisfied: certifi>=2021.10.8 in c:\\users\\asus\\miniconda3\\envs\\webscrapper\\lib\\site-packages (from selenium) (2022.12.7)\n",
      "Requirement already satisfied: urllib3[socks]~=1.26 in c:\\users\\asus\\miniconda3\\envs\\webscrapper\\lib\\site-packages (from selenium) (1.26.11)\n",
      "Requirement already satisfied: idna in c:\\users\\asus\\miniconda3\\envs\\webscrapper\\lib\\site-packages (from trio~=0.17->selenium) (3.4)\n",
      "Requirement already satisfied: outcome in c:\\users\\asus\\miniconda3\\envs\\webscrapper\\lib\\site-packages (from trio~=0.17->selenium) (1.2.0)\n",
      "Requirement already satisfied: sniffio in c:\\users\\asus\\miniconda3\\envs\\webscrapper\\lib\\site-packages (from trio~=0.17->selenium) (1.3.0)\n",
      "Requirement already satisfied: exceptiongroup>=1.0.0rc9 in c:\\users\\asus\\miniconda3\\envs\\webscrapper\\lib\\site-packages (from trio~=0.17->selenium) (1.0.0rc9)\n",
      "Requirement already satisfied: sortedcontainers in c:\\users\\asus\\miniconda3\\envs\\webscrapper\\lib\\site-packages (from trio~=0.17->selenium) (2.4.0)\n",
      "Requirement already satisfied: attrs>=19.2.0 in c:\\users\\asus\\miniconda3\\envs\\webscrapper\\lib\\site-packages (from trio~=0.17->selenium) (22.1.0)\n",
      "Requirement already satisfied: async-generator>=1.9 in c:\\users\\asus\\miniconda3\\envs\\webscrapper\\lib\\site-packages (from trio~=0.17->selenium) (1.10)\n",
      "Requirement already satisfied: cffi>=1.14 in c:\\users\\asus\\miniconda3\\envs\\webscrapper\\lib\\site-packages (from trio~=0.17->selenium) (1.15.1)\n",
      "Requirement already satisfied: wsproto>=0.14 in c:\\users\\asus\\miniconda3\\envs\\webscrapper\\lib\\site-packages (from trio-websocket~=0.9->selenium) (1.2.0)\n",
      "Requirement already satisfied: PySocks!=1.5.7,<2.0,>=1.5.6 in c:\\users\\asus\\miniconda3\\envs\\webscrapper\\lib\\site-packages (from urllib3[socks]~=1.26->selenium) (1.7.1)\n",
      "Requirement already satisfied: pycparser in c:\\users\\asus\\miniconda3\\envs\\webscrapper\\lib\\site-packages (from cffi>=1.14->trio~=0.17->selenium) (2.21)\n",
      "Requirement already satisfied: h11<1,>=0.9.0 in c:\\users\\asus\\miniconda3\\envs\\webscrapper\\lib\\site-packages (from wsproto>=0.14->trio-websocket~=0.9->selenium) (0.14.0)\n"
     ]
    }
   ],
   "source": [
    "!pip install wget\n",
    "!pip install selenium"
   ]
  },
  {
   "attachments": {},
   "cell_type": "markdown",
   "metadata": {},
   "source": [
    "### Import Selenium & time"
   ]
  },
  {
   "cell_type": "code",
   "execution_count": 3,
   "metadata": {},
   "outputs": [],
   "source": [
    "#imports here\n",
    "from selenium import webdriver\n",
    "from selenium.webdriver.common.keys import Keys\n",
    "from selenium.webdriver.support import expected_conditions as EC\n",
    "from selenium.webdriver.common.by import By\n",
    "from selenium.webdriver.support.wait import WebDriverWait\n",
    "from webdriver_manager.chrome import ChromeDriverManager\n",
    "import time"
   ]
  },
  {
   "attachments": {},
   "cell_type": "markdown",
   "metadata": {},
   "source": [
    "### Step 1: Disable Alerts/Notifications\n",
    "\n",
    "!! Using code by <b>pythonjar</b> of <b>Stackoverflow</b> !!\n",
    "<br>\n",
    "Please visit this thread for more details:\n",
    "<br>\n",
    "https://stackoverflow.com/questions/41400934/handle-notifications-in-python-selenium-chrome-webdriver"
   ]
  },
  {
   "cell_type": "code",
   "execution_count": 4,
   "metadata": {},
   "outputs": [],
   "source": [
    "#code by pythonjar, not me\n",
    "chrome_options = webdriver.ChromeOptions()\n",
    "prefs = {\"profile.default_content_setting_values.notifications\" : 2}\n",
    "chrome_options.add_experimental_option(\"prefs\",prefs)"
   ]
  },
  {
   "attachments": {},
   "cell_type": "markdown",
   "metadata": {},
   "source": [
    "### Step 2: Log into your personal Facebook account\n",
    "MAKE SURE to replace <b><i>my_username</i></b> and <b><i>my_password</i></b> with your own unique values\n"
   ]
  },
  {
   "cell_type": "code",
   "execution_count": 5,
   "metadata": {},
   "outputs": [
    {
     "name": "stderr",
     "output_type": "stream",
     "text": [
      "C:\\Users\\ASUS\\AppData\\Local\\Temp\\ipykernel_28692\\4013202266.py:2: DeprecationWarning: executable_path has been deprecated, please pass in a Service object\n",
      "  driver = webdriver.Chrome(ChromeDriverManager().install(), chrome_options=chrome_options)\n",
      "C:\\Users\\ASUS\\AppData\\Local\\Temp\\ipykernel_28692\\4013202266.py:2: DeprecationWarning: use options instead of chrome_options\n",
      "  driver = webdriver.Chrome(ChromeDriverManager().install(), chrome_options=chrome_options)\n"
     ]
    }
   ],
   "source": [
    "#specify the path to chromedriver.exe (download and save on your computer)\n",
    "driver = webdriver.Chrome(ChromeDriverManager().install(), chrome_options=chrome_options)\n",
    "\n",
    "#open the webpage\n",
    "driver.get(\"http://www.facebook.com\")\n",
    "\n",
    "#target username\n",
    "username = WebDriverWait(driver, 10).until(EC.element_to_be_clickable((By.CSS_SELECTOR, \"input[name='email']\")))\n",
    "password = WebDriverWait(driver, 10).until(EC.element_to_be_clickable((By.CSS_SELECTOR, \"input[name='pass']\")))\n",
    "\n",
    "#enter username and password\n",
    "username.clear()\n",
    "username.send_keys(\"riraj.lion@gmail.com\")\n",
    "password.clear()\n",
    "password.send_keys(\"rajhutkishan\")\n",
    "\n",
    "#target the login button and click it\n",
    "button = WebDriverWait(driver, 2).until(EC.element_to_be_clickable((By.CSS_SELECTOR, \"button[type='submit']\"))).click()\n",
    "\n",
    "#We are logged in!"
   ]
  },
  {
   "attachments": {},
   "cell_type": "markdown",
   "metadata": {},
   "source": [
    "### Step 3: Extract All the Photos\n",
    "\n",
    "!! Update <b><i>goldie.may.750</i></b> to your own unique profile address !!\n",
    "<ul>\n",
    "    <li>Create an empty list <b><i>(images)</i></b></li>\n",
    "    <li>Loop over all the photos you've ever uploaded (<b><i>photos_all</i></b>)</li>\n",
    "    <li>Loop over all the photos you were ever tagged in by other users(<b><i>photos</i></b>)</li>\n",
    "    <li>Scroll to the very bottom of the page (or to a certain range)</li>\n",
    "    <li>Extract links to photos</li>\n",
    "    <li>Follow the link and extract store the image inside <b><i>(images)</i></b></li>\n",
    "</ul>"
   ]
  },
  {
   "cell_type": "code",
   "execution_count": 6,
   "metadata": {},
   "outputs": [
    {
     "name": "stdout",
     "output_type": "stream",
     "text": [
      "Found 49 links to images\n",
      "Found 41 links to images\n",
      "I scraped 90 images!\n"
     ]
    }
   ],
   "source": [
    "#wait 5 seconds to allow your new page to load\n",
    "time.sleep(5)\n",
    "images = [] \n",
    "\n",
    "#itterate over both uploaded and tagged images respectively\n",
    "for i in [\"photos_by\", \"photos_of\"]:\n",
    "    # ************************************************\n",
    "    # !! change goldie.may.750 to your own address !!\n",
    "    # ************************************************\n",
    "    driver.get(\"https://www.facebook.com/RAJHUTKARAJA/\" + i + \"/\")\n",
    "    time.sleep(5)\n",
    "    \n",
    "    #scroll down\n",
    "    #increase the range to sroll more\n",
    "    #example: range(0,10) scrolls down 650+ images\n",
    "    for j in range(0,1):\n",
    "        driver.execute_script(\"window.scrollTo(0, document.body.scrollHeight);\")\n",
    "        time.sleep(10)\n",
    "\n",
    "    #target all the link elements on the page\n",
    "    anchors = driver.find_elements(By.TAG_NAME, 'a')\n",
    "    anchors = [a.get_attribute('href') for a in anchors]\n",
    "    #narrow down all links to image links only\n",
    "    anchors = [a for a in anchors if str(a).startswith(\"https://www.facebook.com/photo\")]\n",
    "    \n",
    "    print('Found ' + str(len(anchors)) + ' links to images')\n",
    "    \n",
    "    #extract the [1]st image element in each link\n",
    "    for a in anchors:\n",
    "        driver.get(a) #navigate to link\n",
    "        time.sleep(5) #wait a bit\n",
    "        img = driver.find_elements(By.TAG_NAME, \"img\")\n",
    "        images.append(img[1].get_attribute(\"src\")) #may change in future to img[?]\n",
    "\n",
    "print('I scraped '+ str(len(images)) + ' images!')"
   ]
  },
  {
   "attachments": {},
   "cell_type": "markdown",
   "metadata": {},
   "source": [
    "### Make sure you got the right images!\n",
    "\n",
    "Before we move on, please check if the first URL leads to the first image you wanted to scrape. If not, please addust the index of your <b>img</b> variable from 1 to what's currently relevant (in the previous cell)"
   ]
  },
  {
   "cell_type": "code",
   "execution_count": 7,
   "metadata": {},
   "outputs": [
    {
     "data": {
      "text/plain": [
       "['https://scontent.xx.fbcdn.net/v/t39.30808-1/333912569_235301162258992_8317111285056794_n.jpg?stp=dst-jpg_p100x100&_nc_cat=1&ccb=1-7&_nc_sid=1eb0c7&_nc_ohc=zMiYvoFzoPwAX-abIRs&_nc_ad=z-m&_nc_cid=2034&_nc_ht=scontent.xx&oh=00_AfBhZfAIy5pzOqP_gEml8A-0OdP0jvp7h5yOzO8idFe_-Q&oe=645F1F98',\n",
       " 'https://scontent.xx.fbcdn.net/v/t39.30808-1/333912569_235301162258992_8317111285056794_n.jpg?stp=dst-jpg_p100x100&_nc_cat=1&ccb=1-7&_nc_sid=1eb0c7&_nc_ohc=zMiYvoFzoPwAX-abIRs&_nc_ad=z-m&_nc_cid=2034&_nc_ht=scontent.xx&oh=00_AfBhZfAIy5pzOqP_gEml8A-0OdP0jvp7h5yOzO8idFe_-Q&oe=645F1F98',\n",
       " 'https://scontent.xx.fbcdn.net/v/t39.30808-1/333912569_235301162258992_8317111285056794_n.jpg?stp=dst-jpg_p100x100&_nc_cat=1&ccb=1-7&_nc_sid=1eb0c7&_nc_ohc=zMiYvoFzoPwAX-abIRs&_nc_ad=z-m&_nc_cid=2034&_nc_ht=scontent.xx&oh=00_AfBhZfAIy5pzOqP_gEml8A-0OdP0jvp7h5yOzO8idFe_-Q&oe=645F1F98',\n",
       " 'https://scontent.xx.fbcdn.net/v/t39.30808-1/333912569_235301162258992_8317111285056794_n.jpg?stp=dst-jpg_p100x100&_nc_cat=1&ccb=1-7&_nc_sid=1eb0c7&_nc_ohc=zMiYvoFzoPwAX-abIRs&_nc_ad=z-m&_nc_cid=2034&_nc_ht=scontent.xx&oh=00_AfBhZfAIy5pzOqP_gEml8A-0OdP0jvp7h5yOzO8idFe_-Q&oe=645F1F98',\n",
       " 'https://scontent.xx.fbcdn.net/v/t39.30808-1/333912569_235301162258992_8317111285056794_n.jpg?stp=dst-jpg_p100x100&_nc_cat=1&ccb=1-7&_nc_sid=1eb0c7&_nc_ohc=zMiYvoFzoPwAX-abIRs&_nc_ad=z-m&_nc_cid=2034&_nc_ht=scontent.xx&oh=00_AfBhZfAIy5pzOqP_gEml8A-0OdP0jvp7h5yOzO8idFe_-Q&oe=645F1F98',\n",
       " 'https://scontent.xx.fbcdn.net/v/t39.30808-1/333912569_235301162258992_8317111285056794_n.jpg?stp=dst-jpg_p100x100&_nc_cat=1&ccb=1-7&_nc_sid=1eb0c7&_nc_ohc=zMiYvoFzoPwAX-abIRs&_nc_ad=z-m&_nc_cid=2034&_nc_ht=scontent.xx&oh=00_AfBhZfAIy5pzOqP_gEml8A-0OdP0jvp7h5yOzO8idFe_-Q&oe=645F1F98',\n",
       " 'https://scontent.xx.fbcdn.net/v/t39.30808-1/333912569_235301162258992_8317111285056794_n.jpg?stp=dst-jpg_p100x100&_nc_cat=1&ccb=1-7&_nc_sid=1eb0c7&_nc_ohc=zMiYvoFzoPwAX-abIRs&_nc_ad=z-m&_nc_cid=2034&_nc_ht=scontent.xx&oh=00_AfBhZfAIy5pzOqP_gEml8A-0OdP0jvp7h5yOzO8idFe_-Q&oe=645F1F98',\n",
       " 'https://scontent.xx.fbcdn.net/v/t39.30808-1/333912569_235301162258992_8317111285056794_n.jpg?stp=dst-jpg_p100x100&_nc_cat=1&ccb=1-7&_nc_sid=1eb0c7&_nc_ohc=zMiYvoFzoPwAX-abIRs&_nc_ad=z-m&_nc_cid=2034&_nc_ht=scontent.xx&oh=00_AfBhZfAIy5pzOqP_gEml8A-0OdP0jvp7h5yOzO8idFe_-Q&oe=645F1F98',\n",
       " 'https://scontent.xx.fbcdn.net/v/t39.30808-1/333912569_235301162258992_8317111285056794_n.jpg?stp=dst-jpg_p100x100&_nc_cat=1&ccb=1-7&_nc_sid=1eb0c7&_nc_ohc=zMiYvoFzoPwAX-abIRs&_nc_ad=z-m&_nc_cid=2034&_nc_ht=scontent.xx&oh=00_AfBhZfAIy5pzOqP_gEml8A-0OdP0jvp7h5yOzO8idFe_-Q&oe=645F1F98',\n",
       " 'https://scontent.xx.fbcdn.net/v/t39.30808-1/333912569_235301162258992_8317111285056794_n.jpg?stp=dst-jpg_p100x100&_nc_cat=1&ccb=1-7&_nc_sid=1eb0c7&_nc_ohc=zMiYvoFzoPwAX-abIRs&_nc_ad=z-m&_nc_cid=2034&_nc_ht=scontent.xx&oh=00_AfBhZfAIy5pzOqP_gEml8A-0OdP0jvp7h5yOzO8idFe_-Q&oe=645F1F98',\n",
       " 'https://scontent.xx.fbcdn.net/v/t39.30808-1/333912569_235301162258992_8317111285056794_n.jpg?stp=dst-jpg_p100x100&_nc_cat=1&ccb=1-7&_nc_sid=1eb0c7&_nc_ohc=zMiYvoFzoPwAX-abIRs&_nc_ad=z-m&_nc_cid=2034&_nc_ht=scontent.xx&oh=00_AfBhZfAIy5pzOqP_gEml8A-0OdP0jvp7h5yOzO8idFe_-Q&oe=645F1F98',\n",
       " 'https://scontent.xx.fbcdn.net/v/t39.30808-1/333912569_235301162258992_8317111285056794_n.jpg?stp=dst-jpg_p100x100&_nc_cat=1&ccb=1-7&_nc_sid=1eb0c7&_nc_ohc=zMiYvoFzoPwAX-abIRs&_nc_ad=z-m&_nc_cid=2034&_nc_ht=scontent.xx&oh=00_AfBhZfAIy5pzOqP_gEml8A-0OdP0jvp7h5yOzO8idFe_-Q&oe=645F1F98',\n",
       " 'https://scontent.xx.fbcdn.net/v/t39.30808-1/333912569_235301162258992_8317111285056794_n.jpg?stp=dst-jpg_p100x100&_nc_cat=1&ccb=1-7&_nc_sid=1eb0c7&_nc_ohc=zMiYvoFzoPwAX-abIRs&_nc_ad=z-m&_nc_cid=2034&_nc_ht=scontent.xx&oh=00_AfBhZfAIy5pzOqP_gEml8A-0OdP0jvp7h5yOzO8idFe_-Q&oe=645F1F98',\n",
       " 'https://scontent.xx.fbcdn.net/v/t39.30808-1/333912569_235301162258992_8317111285056794_n.jpg?stp=dst-jpg_p100x100&_nc_cat=1&ccb=1-7&_nc_sid=1eb0c7&_nc_ohc=zMiYvoFzoPwAX-abIRs&_nc_ad=z-m&_nc_cid=2034&_nc_ht=scontent.xx&oh=00_AfBhZfAIy5pzOqP_gEml8A-0OdP0jvp7h5yOzO8idFe_-Q&oe=645F1F98',\n",
       " 'https://scontent.xx.fbcdn.net/v/t39.30808-1/333912569_235301162258992_8317111285056794_n.jpg?stp=dst-jpg_p160x160&_nc_cat=1&ccb=1-7&_nc_sid=1eb0c7&_nc_ohc=zMiYvoFzoPwAX_z-noO&_nc_ad=z-m&_nc_cid=1174&_nc_ht=scontent.xx&oh=00_AfCSLMfXGmg9G-55nBJtb8IbWQi1xJDwxML5dSZmP6vAPw&oe=645F1F98',\n",
       " 'https://scontent.xx.fbcdn.net/v/t39.30808-1/333912569_235301162258992_8317111285056794_n.jpg?stp=dst-jpg_p100x100&_nc_cat=1&ccb=1-7&_nc_sid=1eb0c7&_nc_ohc=zMiYvoFzoPwAX-abIRs&_nc_ad=z-m&_nc_cid=2034&_nc_ht=scontent.xx&oh=00_AfBhZfAIy5pzOqP_gEml8A-0OdP0jvp7h5yOzO8idFe_-Q&oe=645F1F98',\n",
       " 'https://scontent.xx.fbcdn.net/v/t39.30808-1/333912569_235301162258992_8317111285056794_n.jpg?stp=dst-jpg_p100x100&_nc_cat=1&ccb=1-7&_nc_sid=1eb0c7&_nc_ohc=zMiYvoFzoPwAX-abIRs&_nc_ad=z-m&_nc_cid=2034&_nc_ht=scontent.xx&oh=00_AfBhZfAIy5pzOqP_gEml8A-0OdP0jvp7h5yOzO8idFe_-Q&oe=645F1F98',\n",
       " 'https://scontent.xx.fbcdn.net/v/t39.30808-1/333912569_235301162258992_8317111285056794_n.jpg?stp=dst-jpg_p100x100&_nc_cat=1&ccb=1-7&_nc_sid=1eb0c7&_nc_ohc=zMiYvoFzoPwAX-abIRs&_nc_ad=z-m&_nc_cid=2034&_nc_ht=scontent.xx&oh=00_AfBhZfAIy5pzOqP_gEml8A-0OdP0jvp7h5yOzO8idFe_-Q&oe=645F1F98',\n",
       " 'https://scontent.xx.fbcdn.net/v/t39.30808-1/333912569_235301162258992_8317111285056794_n.jpg?stp=dst-jpg_p100x100&_nc_cat=1&ccb=1-7&_nc_sid=1eb0c7&_nc_ohc=zMiYvoFzoPwAX-abIRs&_nc_ad=z-m&_nc_cid=2034&_nc_ht=scontent.xx&oh=00_AfBhZfAIy5pzOqP_gEml8A-0OdP0jvp7h5yOzO8idFe_-Q&oe=645F1F98',\n",
       " 'https://scontent.xx.fbcdn.net/v/t39.30808-1/333912569_235301162258992_8317111285056794_n.jpg?stp=dst-jpg_p100x100&_nc_cat=1&ccb=1-7&_nc_sid=1eb0c7&_nc_ohc=zMiYvoFzoPwAX-abIRs&_nc_ad=z-m&_nc_cid=2034&_nc_ht=scontent.xx&oh=00_AfBhZfAIy5pzOqP_gEml8A-0OdP0jvp7h5yOzO8idFe_-Q&oe=645F1F98',\n",
       " 'https://scontent.xx.fbcdn.net/v/t39.30808-1/333912569_235301162258992_8317111285056794_n.jpg?stp=dst-jpg_p100x100&_nc_cat=1&ccb=1-7&_nc_sid=1eb0c7&_nc_ohc=zMiYvoFzoPwAX-abIRs&_nc_ad=z-m&_nc_cid=2034&_nc_ht=scontent.xx&oh=00_AfBhZfAIy5pzOqP_gEml8A-0OdP0jvp7h5yOzO8idFe_-Q&oe=645F1F98',\n",
       " 'https://scontent.xx.fbcdn.net/v/t39.30808-1/333912569_235301162258992_8317111285056794_n.jpg?stp=dst-jpg_p100x100&_nc_cat=1&ccb=1-7&_nc_sid=1eb0c7&_nc_ohc=zMiYvoFzoPwAX-abIRs&_nc_ad=z-m&_nc_cid=2034&_nc_ht=scontent.xx&oh=00_AfBhZfAIy5pzOqP_gEml8A-0OdP0jvp7h5yOzO8idFe_-Q&oe=645F1F98',\n",
       " 'https://scontent.xx.fbcdn.net/v/t39.30808-1/333912569_235301162258992_8317111285056794_n.jpg?stp=dst-jpg_p100x100&_nc_cat=1&ccb=1-7&_nc_sid=1eb0c7&_nc_ohc=zMiYvoFzoPwAX-abIRs&_nc_ad=z-m&_nc_cid=2034&_nc_ht=scontent.xx&oh=00_AfBhZfAIy5pzOqP_gEml8A-0OdP0jvp7h5yOzO8idFe_-Q&oe=645F1F98',\n",
       " 'https://scontent.xx.fbcdn.net/v/t39.30808-1/333912569_235301162258992_8317111285056794_n.jpg?stp=dst-jpg_p100x100&_nc_cat=1&ccb=1-7&_nc_sid=1eb0c7&_nc_ohc=zMiYvoFzoPwAX-abIRs&_nc_ad=z-m&_nc_cid=2034&_nc_ht=scontent.xx&oh=00_AfBhZfAIy5pzOqP_gEml8A-0OdP0jvp7h5yOzO8idFe_-Q&oe=645F1F98',\n",
       " 'https://scontent.xx.fbcdn.net/v/t39.30808-1/333912569_235301162258992_8317111285056794_n.jpg?stp=dst-jpg_p100x100&_nc_cat=1&ccb=1-7&_nc_sid=1eb0c7&_nc_ohc=zMiYvoFzoPwAX-abIRs&_nc_ad=z-m&_nc_cid=2034&_nc_ht=scontent.xx&oh=00_AfBhZfAIy5pzOqP_gEml8A-0OdP0jvp7h5yOzO8idFe_-Q&oe=645F1F98',\n",
       " 'https://scontent.xx.fbcdn.net/v/t39.30808-1/333912569_235301162258992_8317111285056794_n.jpg?stp=dst-jpg_p100x100&_nc_cat=1&ccb=1-7&_nc_sid=1eb0c7&_nc_ohc=zMiYvoFzoPwAX-abIRs&_nc_ad=z-m&_nc_cid=2034&_nc_ht=scontent.xx&oh=00_AfBhZfAIy5pzOqP_gEml8A-0OdP0jvp7h5yOzO8idFe_-Q&oe=645F1F98',\n",
       " 'https://scontent.xx.fbcdn.net/v/t39.30808-1/333912569_235301162258992_8317111285056794_n.jpg?stp=dst-jpg_p100x100&_nc_cat=1&ccb=1-7&_nc_sid=1eb0c7&_nc_ohc=zMiYvoFzoPwAX-abIRs&_nc_ad=z-m&_nc_cid=2034&_nc_ht=scontent.xx&oh=00_AfBhZfAIy5pzOqP_gEml8A-0OdP0jvp7h5yOzO8idFe_-Q&oe=645F1F98',\n",
       " 'https://scontent.xx.fbcdn.net/v/t39.30808-1/333912569_235301162258992_8317111285056794_n.jpg?stp=dst-jpg_p100x100&_nc_cat=1&ccb=1-7&_nc_sid=1eb0c7&_nc_ohc=zMiYvoFzoPwAX-abIRs&_nc_ad=z-m&_nc_cid=2034&_nc_ht=scontent.xx&oh=00_AfBhZfAIy5pzOqP_gEml8A-0OdP0jvp7h5yOzO8idFe_-Q&oe=645F1F98',\n",
       " 'https://scontent.xx.fbcdn.net/v/t39.30808-1/333912569_235301162258992_8317111285056794_n.jpg?stp=dst-jpg_p100x100&_nc_cat=1&ccb=1-7&_nc_sid=1eb0c7&_nc_ohc=zMiYvoFzoPwAX-abIRs&_nc_ad=z-m&_nc_cid=2034&_nc_ht=scontent.xx&oh=00_AfBhZfAIy5pzOqP_gEml8A-0OdP0jvp7h5yOzO8idFe_-Q&oe=645F1F98',\n",
       " 'https://scontent.xx.fbcdn.net/v/t39.30808-1/333912569_235301162258992_8317111285056794_n.jpg?stp=dst-jpg_p100x100&_nc_cat=1&ccb=1-7&_nc_sid=1eb0c7&_nc_ohc=zMiYvoFzoPwAX-abIRs&_nc_ad=z-m&_nc_cid=2034&_nc_ht=scontent.xx&oh=00_AfBhZfAIy5pzOqP_gEml8A-0OdP0jvp7h5yOzO8idFe_-Q&oe=645F1F98',\n",
       " 'https://scontent.xx.fbcdn.net/v/t39.30808-1/333912569_235301162258992_8317111285056794_n.jpg?stp=dst-jpg_p160x160&_nc_cat=1&ccb=1-7&_nc_sid=1eb0c7&_nc_ohc=zMiYvoFzoPwAX_z-noO&_nc_ad=z-m&_nc_cid=1174&_nc_ht=scontent.xx&oh=00_AfCSLMfXGmg9G-55nBJtb8IbWQi1xJDwxML5dSZmP6vAPw&oe=645F1F98',\n",
       " 'https://scontent.xx.fbcdn.net/v/t39.30808-1/333912569_235301162258992_8317111285056794_n.jpg?stp=dst-jpg_p100x100&_nc_cat=1&ccb=1-7&_nc_sid=1eb0c7&_nc_ohc=zMiYvoFzoPwAX-abIRs&_nc_ad=z-m&_nc_cid=2034&_nc_ht=scontent.xx&oh=00_AfBhZfAIy5pzOqP_gEml8A-0OdP0jvp7h5yOzO8idFe_-Q&oe=645F1F98',\n",
       " 'https://scontent.xx.fbcdn.net/v/t39.30808-1/333912569_235301162258992_8317111285056794_n.jpg?stp=dst-jpg_p100x100&_nc_cat=1&ccb=1-7&_nc_sid=1eb0c7&_nc_ohc=zMiYvoFzoPwAX-abIRs&_nc_ad=z-m&_nc_cid=2034&_nc_ht=scontent.xx&oh=00_AfBhZfAIy5pzOqP_gEml8A-0OdP0jvp7h5yOzO8idFe_-Q&oe=645F1F98',\n",
       " 'https://scontent.xx.fbcdn.net/v/t39.30808-1/333912569_235301162258992_8317111285056794_n.jpg?stp=dst-jpg_p100x100&_nc_cat=1&ccb=1-7&_nc_sid=1eb0c7&_nc_ohc=zMiYvoFzoPwAX-abIRs&_nc_ad=z-m&_nc_cid=2034&_nc_ht=scontent.xx&oh=00_AfBhZfAIy5pzOqP_gEml8A-0OdP0jvp7h5yOzO8idFe_-Q&oe=645F1F98',\n",
       " 'https://scontent.xx.fbcdn.net/v/t39.30808-1/333912569_235301162258992_8317111285056794_n.jpg?stp=dst-jpg_p100x100&_nc_cat=1&ccb=1-7&_nc_sid=1eb0c7&_nc_ohc=zMiYvoFzoPwAX-abIRs&_nc_ad=z-m&_nc_cid=2034&_nc_ht=scontent.xx&oh=00_AfBhZfAIy5pzOqP_gEml8A-0OdP0jvp7h5yOzO8idFe_-Q&oe=645F1F98',\n",
       " 'https://scontent.xx.fbcdn.net/v/t39.30808-1/333912569_235301162258992_8317111285056794_n.jpg?stp=dst-jpg_p100x100&_nc_cat=1&ccb=1-7&_nc_sid=1eb0c7&_nc_ohc=zMiYvoFzoPwAX-abIRs&_nc_ad=z-m&_nc_cid=2034&_nc_ht=scontent.xx&oh=00_AfBhZfAIy5pzOqP_gEml8A-0OdP0jvp7h5yOzO8idFe_-Q&oe=645F1F98',\n",
       " 'https://scontent.xx.fbcdn.net/v/t39.30808-1/333912569_235301162258992_8317111285056794_n.jpg?stp=dst-jpg_p100x100&_nc_cat=1&ccb=1-7&_nc_sid=1eb0c7&_nc_ohc=zMiYvoFzoPwAX-abIRs&_nc_ad=z-m&_nc_cid=2034&_nc_ht=scontent.xx&oh=00_AfBhZfAIy5pzOqP_gEml8A-0OdP0jvp7h5yOzO8idFe_-Q&oe=645F1F98',\n",
       " 'https://scontent.xx.fbcdn.net/v/t39.30808-1/333912569_235301162258992_8317111285056794_n.jpg?stp=dst-jpg_p100x100&_nc_cat=1&ccb=1-7&_nc_sid=1eb0c7&_nc_ohc=zMiYvoFzoPwAX-abIRs&_nc_ad=z-m&_nc_cid=2034&_nc_ht=scontent.xx&oh=00_AfBhZfAIy5pzOqP_gEml8A-0OdP0jvp7h5yOzO8idFe_-Q&oe=645F1F98',\n",
       " 'https://scontent.xx.fbcdn.net/v/t39.30808-1/333912569_235301162258992_8317111285056794_n.jpg?stp=dst-jpg_p100x100&_nc_cat=1&ccb=1-7&_nc_sid=1eb0c7&_nc_ohc=zMiYvoFzoPwAX-abIRs&_nc_ad=z-m&_nc_cid=2034&_nc_ht=scontent.xx&oh=00_AfBhZfAIy5pzOqP_gEml8A-0OdP0jvp7h5yOzO8idFe_-Q&oe=645F1F98',\n",
       " 'https://scontent.xx.fbcdn.net/v/t39.30808-1/333912569_235301162258992_8317111285056794_n.jpg?stp=dst-jpg_p100x100&_nc_cat=1&ccb=1-7&_nc_sid=1eb0c7&_nc_ohc=zMiYvoFzoPwAX-abIRs&_nc_ad=z-m&_nc_cid=2034&_nc_ht=scontent.xx&oh=00_AfBhZfAIy5pzOqP_gEml8A-0OdP0jvp7h5yOzO8idFe_-Q&oe=645F1F98',\n",
       " 'https://scontent.xx.fbcdn.net/v/t39.30808-1/333912569_235301162258992_8317111285056794_n.jpg?stp=dst-jpg_p100x100&_nc_cat=1&ccb=1-7&_nc_sid=1eb0c7&_nc_ohc=zMiYvoFzoPwAX-abIRs&_nc_ad=z-m&_nc_cid=2034&_nc_ht=scontent.xx&oh=00_AfBhZfAIy5pzOqP_gEml8A-0OdP0jvp7h5yOzO8idFe_-Q&oe=645F1F98',\n",
       " 'https://scontent.xx.fbcdn.net/v/t39.30808-1/333912569_235301162258992_8317111285056794_n.jpg?stp=dst-jpg_p100x100&_nc_cat=1&ccb=1-7&_nc_sid=1eb0c7&_nc_ohc=zMiYvoFzoPwAX-abIRs&_nc_ad=z-m&_nc_cid=2034&_nc_ht=scontent.xx&oh=00_AfBhZfAIy5pzOqP_gEml8A-0OdP0jvp7h5yOzO8idFe_-Q&oe=645F1F98',\n",
       " 'https://scontent.xx.fbcdn.net/v/t39.30808-1/333912569_235301162258992_8317111285056794_n.jpg?stp=dst-jpg_p100x100&_nc_cat=1&ccb=1-7&_nc_sid=1eb0c7&_nc_ohc=zMiYvoFzoPwAX-abIRs&_nc_ad=z-m&_nc_cid=2034&_nc_ht=scontent.xx&oh=00_AfBhZfAIy5pzOqP_gEml8A-0OdP0jvp7h5yOzO8idFe_-Q&oe=645F1F98',\n",
       " 'https://scontent.xx.fbcdn.net/v/t39.30808-1/333912569_235301162258992_8317111285056794_n.jpg?stp=dst-jpg_p100x100&_nc_cat=1&ccb=1-7&_nc_sid=1eb0c7&_nc_ohc=zMiYvoFzoPwAX-abIRs&_nc_ad=z-m&_nc_cid=2034&_nc_ht=scontent.xx&oh=00_AfBhZfAIy5pzOqP_gEml8A-0OdP0jvp7h5yOzO8idFe_-Q&oe=645F1F98',\n",
       " 'https://scontent.xx.fbcdn.net/v/t39.30808-1/333912569_235301162258992_8317111285056794_n.jpg?stp=dst-jpg_p100x100&_nc_cat=1&ccb=1-7&_nc_sid=1eb0c7&_nc_ohc=zMiYvoFzoPwAX-abIRs&_nc_ad=z-m&_nc_cid=2034&_nc_ht=scontent.xx&oh=00_AfBhZfAIy5pzOqP_gEml8A-0OdP0jvp7h5yOzO8idFe_-Q&oe=645F1F98',\n",
       " 'https://scontent.xx.fbcdn.net/v/t39.30808-1/333912569_235301162258992_8317111285056794_n.jpg?stp=dst-jpg_p100x100&_nc_cat=1&ccb=1-7&_nc_sid=1eb0c7&_nc_ohc=zMiYvoFzoPwAX-abIRs&_nc_ad=z-m&_nc_cid=2034&_nc_ht=scontent.xx&oh=00_AfBhZfAIy5pzOqP_gEml8A-0OdP0jvp7h5yOzO8idFe_-Q&oe=645F1F98',\n",
       " 'https://scontent.xx.fbcdn.net/v/t39.30808-1/333912569_235301162258992_8317111285056794_n.jpg?stp=dst-jpg_p100x100&_nc_cat=1&ccb=1-7&_nc_sid=1eb0c7&_nc_ohc=zMiYvoFzoPwAX-abIRs&_nc_ad=z-m&_nc_cid=2034&_nc_ht=scontent.xx&oh=00_AfBhZfAIy5pzOqP_gEml8A-0OdP0jvp7h5yOzO8idFe_-Q&oe=645F1F98',\n",
       " 'https://scontent.xx.fbcdn.net/v/t39.30808-1/333912569_235301162258992_8317111285056794_n.jpg?stp=dst-jpg_p100x100&_nc_cat=1&ccb=1-7&_nc_sid=1eb0c7&_nc_ohc=zMiYvoFzoPwAX-abIRs&_nc_ad=z-m&_nc_cid=2034&_nc_ht=scontent.xx&oh=00_AfBhZfAIy5pzOqP_gEml8A-0OdP0jvp7h5yOzO8idFe_-Q&oe=645F1F98',\n",
       " 'https://scontent.xx.fbcdn.net/v/t39.30808-1/333912569_235301162258992_8317111285056794_n.jpg?stp=dst-jpg_p100x100&_nc_cat=1&ccb=1-7&_nc_sid=1eb0c7&_nc_ohc=zMiYvoFzoPwAX-abIRs&_nc_ad=z-m&_nc_cid=2034&_nc_ht=scontent.xx&oh=00_AfBhZfAIy5pzOqP_gEml8A-0OdP0jvp7h5yOzO8idFe_-Q&oe=645F1F98',\n",
       " 'https://scontent.xx.fbcdn.net/v/t39.30808-1/333912569_235301162258992_8317111285056794_n.jpg?stp=dst-jpg_p100x100&_nc_cat=1&ccb=1-7&_nc_sid=1eb0c7&_nc_ohc=zMiYvoFzoPwAX-abIRs&_nc_ad=z-m&_nc_cid=2034&_nc_ht=scontent.xx&oh=00_AfBhZfAIy5pzOqP_gEml8A-0OdP0jvp7h5yOzO8idFe_-Q&oe=645F1F98',\n",
       " 'https://scontent.xx.fbcdn.net/v/t39.30808-1/333912569_235301162258992_8317111285056794_n.jpg?stp=dst-jpg_p100x100&_nc_cat=1&ccb=1-7&_nc_sid=1eb0c7&_nc_ohc=zMiYvoFzoPwAX-abIRs&_nc_ad=z-m&_nc_cid=2034&_nc_ht=scontent.xx&oh=00_AfBhZfAIy5pzOqP_gEml8A-0OdP0jvp7h5yOzO8idFe_-Q&oe=645F1F98',\n",
       " 'https://scontent.xx.fbcdn.net/v/t39.30808-1/333912569_235301162258992_8317111285056794_n.jpg?stp=dst-jpg_p100x100&_nc_cat=1&ccb=1-7&_nc_sid=1eb0c7&_nc_ohc=zMiYvoFzoPwAX-abIRs&_nc_ad=z-m&_nc_cid=2034&_nc_ht=scontent.xx&oh=00_AfBhZfAIy5pzOqP_gEml8A-0OdP0jvp7h5yOzO8idFe_-Q&oe=645F1F98',\n",
       " 'https://scontent.xx.fbcdn.net/v/t39.30808-1/333912569_235301162258992_8317111285056794_n.jpg?stp=dst-jpg_p100x100&_nc_cat=1&ccb=1-7&_nc_sid=1eb0c7&_nc_ohc=zMiYvoFzoPwAX-abIRs&_nc_ad=z-m&_nc_cid=2034&_nc_ht=scontent.xx&oh=00_AfBhZfAIy5pzOqP_gEml8A-0OdP0jvp7h5yOzO8idFe_-Q&oe=645F1F98',\n",
       " 'https://scontent.xx.fbcdn.net/v/t39.30808-1/333912569_235301162258992_8317111285056794_n.jpg?stp=dst-jpg_p100x100&_nc_cat=1&ccb=1-7&_nc_sid=1eb0c7&_nc_ohc=zMiYvoFzoPwAX-abIRs&_nc_ad=z-m&_nc_cid=2034&_nc_ht=scontent.xx&oh=00_AfBhZfAIy5pzOqP_gEml8A-0OdP0jvp7h5yOzO8idFe_-Q&oe=645F1F98',\n",
       " 'https://scontent.xx.fbcdn.net/v/t39.30808-1/333912569_235301162258992_8317111285056794_n.jpg?stp=dst-jpg_p100x100&_nc_cat=1&ccb=1-7&_nc_sid=1eb0c7&_nc_ohc=zMiYvoFzoPwAX-abIRs&_nc_ad=z-m&_nc_cid=2034&_nc_ht=scontent.xx&oh=00_AfBhZfAIy5pzOqP_gEml8A-0OdP0jvp7h5yOzO8idFe_-Q&oe=645F1F98',\n",
       " 'https://scontent.xx.fbcdn.net/v/t39.30808-1/333912569_235301162258992_8317111285056794_n.jpg?stp=dst-jpg_p100x100&_nc_cat=1&ccb=1-7&_nc_sid=1eb0c7&_nc_ohc=zMiYvoFzoPwAX-abIRs&_nc_ad=z-m&_nc_cid=2034&_nc_ht=scontent.xx&oh=00_AfBhZfAIy5pzOqP_gEml8A-0OdP0jvp7h5yOzO8idFe_-Q&oe=645F1F98',\n",
       " 'https://scontent.xx.fbcdn.net/v/t39.30808-1/333912569_235301162258992_8317111285056794_n.jpg?stp=dst-jpg_p100x100&_nc_cat=1&ccb=1-7&_nc_sid=1eb0c7&_nc_ohc=zMiYvoFzoPwAX-abIRs&_nc_ad=z-m&_nc_cid=2034&_nc_ht=scontent.xx&oh=00_AfBhZfAIy5pzOqP_gEml8A-0OdP0jvp7h5yOzO8idFe_-Q&oe=645F1F98',\n",
       " 'https://scontent.xx.fbcdn.net/v/t39.30808-1/333912569_235301162258992_8317111285056794_n.jpg?stp=dst-jpg_p100x100&_nc_cat=1&ccb=1-7&_nc_sid=1eb0c7&_nc_ohc=zMiYvoFzoPwAX-abIRs&_nc_ad=z-m&_nc_cid=2034&_nc_ht=scontent.xx&oh=00_AfBhZfAIy5pzOqP_gEml8A-0OdP0jvp7h5yOzO8idFe_-Q&oe=645F1F98',\n",
       " 'https://scontent.xx.fbcdn.net/v/t39.30808-1/333912569_235301162258992_8317111285056794_n.jpg?stp=dst-jpg_p100x100&_nc_cat=1&ccb=1-7&_nc_sid=1eb0c7&_nc_ohc=zMiYvoFzoPwAX-abIRs&_nc_ad=z-m&_nc_cid=2034&_nc_ht=scontent.xx&oh=00_AfBhZfAIy5pzOqP_gEml8A-0OdP0jvp7h5yOzO8idFe_-Q&oe=645F1F98',\n",
       " 'https://scontent.xx.fbcdn.net/v/t39.30808-1/333912569_235301162258992_8317111285056794_n.jpg?stp=dst-jpg_p100x100&_nc_cat=1&ccb=1-7&_nc_sid=1eb0c7&_nc_ohc=zMiYvoFzoPwAX-abIRs&_nc_ad=z-m&_nc_cid=2034&_nc_ht=scontent.xx&oh=00_AfBhZfAIy5pzOqP_gEml8A-0OdP0jvp7h5yOzO8idFe_-Q&oe=645F1F98',\n",
       " 'https://scontent.xx.fbcdn.net/v/t39.30808-1/333912569_235301162258992_8317111285056794_n.jpg?stp=dst-jpg_p100x100&_nc_cat=1&ccb=1-7&_nc_sid=99fcfb&_nc_ohc=zMiYvoFzoPwAX9udv-3&_nc_ad=z-m&_nc_cid=0&_nc_ht=scontent.xx&oh=00_AfDvuFZbzqblOLfXUaFRe8NehBc7-iIjofjoY7SkHb7k4w&oe=645F1F98',\n",
       " 'https://scontent.xx.fbcdn.net/v/t39.30808-1/333912569_235301162258992_8317111285056794_n.jpg?stp=dst-jpg_p100x100&_nc_cat=1&ccb=1-7&_nc_sid=99fcfb&_nc_ohc=zMiYvoFzoPwAX9udv-3&_nc_ad=z-m&_nc_cid=0&_nc_ht=scontent.xx&oh=00_AfDvuFZbzqblOLfXUaFRe8NehBc7-iIjofjoY7SkHb7k4w&oe=645F1F98',\n",
       " 'https://scontent.xx.fbcdn.net/v/t39.30808-1/333912569_235301162258992_8317111285056794_n.jpg?stp=dst-jpg_p100x100&_nc_cat=1&ccb=1-7&_nc_sid=99fcfb&_nc_ohc=zMiYvoFzoPwAX9udv-3&_nc_ad=z-m&_nc_cid=0&_nc_ht=scontent.xx&oh=00_AfDvuFZbzqblOLfXUaFRe8NehBc7-iIjofjoY7SkHb7k4w&oe=645F1F98',\n",
       " 'https://scontent.xx.fbcdn.net/v/t39.30808-1/333912569_235301162258992_8317111285056794_n.jpg?stp=dst-jpg_p100x100&_nc_cat=1&ccb=1-7&_nc_sid=99fcfb&_nc_ohc=zMiYvoFzoPwAX9udv-3&_nc_ad=z-m&_nc_cid=0&_nc_ht=scontent.xx&oh=00_AfDvuFZbzqblOLfXUaFRe8NehBc7-iIjofjoY7SkHb7k4w&oe=645F1F98',\n",
       " 'https://scontent.xx.fbcdn.net/v/t39.30808-1/333912569_235301162258992_8317111285056794_n.jpg?stp=dst-jpg_p100x100&_nc_cat=1&ccb=1-7&_nc_sid=99fcfb&_nc_ohc=zMiYvoFzoPwAX9udv-3&_nc_ad=z-m&_nc_cid=0&_nc_ht=scontent.xx&oh=00_AfDvuFZbzqblOLfXUaFRe8NehBc7-iIjofjoY7SkHb7k4w&oe=645F1F98',\n",
       " 'https://scontent.xx.fbcdn.net/v/t39.30808-1/333912569_235301162258992_8317111285056794_n.jpg?stp=dst-jpg_p100x100&_nc_cat=1&ccb=1-7&_nc_sid=99fcfb&_nc_ohc=zMiYvoFzoPwAX9udv-3&_nc_ad=z-m&_nc_cid=0&_nc_ht=scontent.xx&oh=00_AfDvuFZbzqblOLfXUaFRe8NehBc7-iIjofjoY7SkHb7k4w&oe=645F1F98',\n",
       " 'https://scontent.xx.fbcdn.net/v/t39.30808-1/333912569_235301162258992_8317111285056794_n.jpg?stp=dst-jpg_p100x100&_nc_cat=1&ccb=1-7&_nc_sid=99fcfb&_nc_ohc=zMiYvoFzoPwAX9udv-3&_nc_ad=z-m&_nc_cid=0&_nc_ht=scontent.xx&oh=00_AfDvuFZbzqblOLfXUaFRe8NehBc7-iIjofjoY7SkHb7k4w&oe=645F1F98',\n",
       " 'https://scontent.xx.fbcdn.net/v/t39.30808-1/333912569_235301162258992_8317111285056794_n.jpg?stp=dst-jpg_p100x100&_nc_cat=1&ccb=1-7&_nc_sid=99fcfb&_nc_ohc=zMiYvoFzoPwAX9udv-3&_nc_ad=z-m&_nc_cid=0&_nc_ht=scontent.xx&oh=00_AfDvuFZbzqblOLfXUaFRe8NehBc7-iIjofjoY7SkHb7k4w&oe=645F1F98',\n",
       " 'https://scontent.xx.fbcdn.net/v/t39.30808-1/333912569_235301162258992_8317111285056794_n.jpg?stp=dst-jpg_p100x100&_nc_cat=1&ccb=1-7&_nc_sid=99fcfb&_nc_ohc=zMiYvoFzoPwAX9udv-3&_nc_ad=z-m&_nc_cid=0&_nc_ht=scontent.xx&oh=00_AfDvuFZbzqblOLfXUaFRe8NehBc7-iIjofjoY7SkHb7k4w&oe=645F1F98',\n",
       " 'https://scontent.xx.fbcdn.net/v/t39.30808-1/333912569_235301162258992_8317111285056794_n.jpg?stp=dst-jpg_p100x100&_nc_cat=1&ccb=1-7&_nc_sid=99fcfb&_nc_ohc=zMiYvoFzoPwAX9udv-3&_nc_ad=z-m&_nc_cid=0&_nc_ht=scontent.xx&oh=00_AfDvuFZbzqblOLfXUaFRe8NehBc7-iIjofjoY7SkHb7k4w&oe=645F1F98',\n",
       " 'https://scontent.xx.fbcdn.net/v/t39.30808-1/333912569_235301162258992_8317111285056794_n.jpg?stp=dst-jpg_p100x100&_nc_cat=1&ccb=1-7&_nc_sid=99fcfb&_nc_ohc=zMiYvoFzoPwAX9udv-3&_nc_ad=z-m&_nc_cid=0&_nc_ht=scontent.xx&oh=00_AfDvuFZbzqblOLfXUaFRe8NehBc7-iIjofjoY7SkHb7k4w&oe=645F1F98',\n",
       " 'https://scontent.xx.fbcdn.net/v/t39.30808-1/333912569_235301162258992_8317111285056794_n.jpg?stp=dst-jpg_p100x100&_nc_cat=1&ccb=1-7&_nc_sid=99fcfb&_nc_ohc=zMiYvoFzoPwAX9udv-3&_nc_ad=z-m&_nc_cid=0&_nc_ht=scontent.xx&oh=00_AfDvuFZbzqblOLfXUaFRe8NehBc7-iIjofjoY7SkHb7k4w&oe=645F1F98',\n",
       " 'https://scontent.xx.fbcdn.net/v/t39.30808-1/333912569_235301162258992_8317111285056794_n.jpg?stp=dst-jpg_p100x100&_nc_cat=1&ccb=1-7&_nc_sid=99fcfb&_nc_ohc=zMiYvoFzoPwAX9udv-3&_nc_ad=z-m&_nc_cid=0&_nc_ht=scontent.xx&oh=00_AfDvuFZbzqblOLfXUaFRe8NehBc7-iIjofjoY7SkHb7k4w&oe=645F1F98',\n",
       " 'https://scontent.xx.fbcdn.net/v/t39.30808-1/333912569_235301162258992_8317111285056794_n.jpg?stp=dst-jpg_p100x100&_nc_cat=1&ccb=1-7&_nc_sid=99fcfb&_nc_ohc=zMiYvoFzoPwAX9udv-3&_nc_ad=z-m&_nc_cid=0&_nc_ht=scontent.xx&oh=00_AfDvuFZbzqblOLfXUaFRe8NehBc7-iIjofjoY7SkHb7k4w&oe=645F1F98',\n",
       " 'https://scontent.xx.fbcdn.net/v/t39.30808-1/333912569_235301162258992_8317111285056794_n.jpg?stp=dst-jpg_p100x100&_nc_cat=1&ccb=1-7&_nc_sid=99fcfb&_nc_ohc=zMiYvoFzoPwAX9udv-3&_nc_ad=z-m&_nc_cid=0&_nc_ht=scontent.xx&oh=00_AfDvuFZbzqblOLfXUaFRe8NehBc7-iIjofjoY7SkHb7k4w&oe=645F1F98',\n",
       " 'https://scontent.xx.fbcdn.net/v/t39.30808-1/333912569_235301162258992_8317111285056794_n.jpg?stp=dst-jpg_p100x100&_nc_cat=1&ccb=1-7&_nc_sid=99fcfb&_nc_ohc=zMiYvoFzoPwAX9udv-3&_nc_ad=z-m&_nc_cid=0&_nc_ht=scontent.xx&oh=00_AfDvuFZbzqblOLfXUaFRe8NehBc7-iIjofjoY7SkHb7k4w&oe=645F1F98',\n",
       " 'https://scontent.xx.fbcdn.net/v/t39.30808-1/333912569_235301162258992_8317111285056794_n.jpg?stp=dst-jpg_p100x100&_nc_cat=1&ccb=1-7&_nc_sid=99fcfb&_nc_ohc=zMiYvoFzoPwAX9udv-3&_nc_ad=z-m&_nc_cid=0&_nc_ht=scontent.xx&oh=00_AfDvuFZbzqblOLfXUaFRe8NehBc7-iIjofjoY7SkHb7k4w&oe=645F1F98',\n",
       " 'https://scontent.xx.fbcdn.net/v/t39.30808-1/333912569_235301162258992_8317111285056794_n.jpg?stp=dst-jpg_p100x100&_nc_cat=1&ccb=1-7&_nc_sid=99fcfb&_nc_ohc=zMiYvoFzoPwAX9udv-3&_nc_ad=z-m&_nc_cid=0&_nc_ht=scontent.xx&oh=00_AfDvuFZbzqblOLfXUaFRe8NehBc7-iIjofjoY7SkHb7k4w&oe=645F1F98',\n",
       " 'https://scontent.xx.fbcdn.net/v/t39.30808-1/333912569_235301162258992_8317111285056794_n.jpg?stp=dst-jpg_p100x100&_nc_cat=1&ccb=1-7&_nc_sid=99fcfb&_nc_ohc=zMiYvoFzoPwAX9udv-3&_nc_ad=z-m&_nc_cid=0&_nc_ht=scontent.xx&oh=00_AfDvuFZbzqblOLfXUaFRe8NehBc7-iIjofjoY7SkHb7k4w&oe=645F1F98',\n",
       " 'https://scontent.xx.fbcdn.net/v/t39.30808-1/333912569_235301162258992_8317111285056794_n.jpg?stp=dst-jpg_p100x100&_nc_cat=1&ccb=1-7&_nc_sid=99fcfb&_nc_ohc=zMiYvoFzoPwAX9udv-3&_nc_ad=z-m&_nc_cid=0&_nc_ht=scontent.xx&oh=00_AfDvuFZbzqblOLfXUaFRe8NehBc7-iIjofjoY7SkHb7k4w&oe=645F1F98',\n",
       " 'https://scontent.xx.fbcdn.net/v/t39.30808-1/333912569_235301162258992_8317111285056794_n.jpg?stp=dst-jpg_p100x100&_nc_cat=1&ccb=1-7&_nc_sid=99fcfb&_nc_ohc=zMiYvoFzoPwAX9udv-3&_nc_ad=z-m&_nc_cid=0&_nc_ht=scontent.xx&oh=00_AfDvuFZbzqblOLfXUaFRe8NehBc7-iIjofjoY7SkHb7k4w&oe=645F1F98',\n",
       " 'https://scontent.xx.fbcdn.net/v/t39.30808-1/333912569_235301162258992_8317111285056794_n.jpg?stp=dst-jpg_p100x100&_nc_cat=1&ccb=1-7&_nc_sid=99fcfb&_nc_ohc=zMiYvoFzoPwAX9udv-3&_nc_ad=z-m&_nc_cid=0&_nc_ht=scontent.xx&oh=00_AfDvuFZbzqblOLfXUaFRe8NehBc7-iIjofjoY7SkHb7k4w&oe=645F1F98',\n",
       " 'https://scontent.xx.fbcdn.net/v/t39.30808-1/333912569_235301162258992_8317111285056794_n.jpg?stp=dst-jpg_p100x100&_nc_cat=1&ccb=1-7&_nc_sid=99fcfb&_nc_ohc=zMiYvoFzoPwAX9udv-3&_nc_ad=z-m&_nc_cid=0&_nc_ht=scontent.xx&oh=00_AfDvuFZbzqblOLfXUaFRe8NehBc7-iIjofjoY7SkHb7k4w&oe=645F1F98',\n",
       " 'https://scontent.xx.fbcdn.net/v/t39.30808-1/333912569_235301162258992_8317111285056794_n.jpg?stp=dst-jpg_p100x100&_nc_cat=1&ccb=1-7&_nc_sid=99fcfb&_nc_ohc=zMiYvoFzoPwAX9udv-3&_nc_ad=z-m&_nc_cid=0&_nc_ht=scontent.xx&oh=00_AfDvuFZbzqblOLfXUaFRe8NehBc7-iIjofjoY7SkHb7k4w&oe=645F1F98',\n",
       " 'https://scontent.xx.fbcdn.net/v/t39.30808-1/333912569_235301162258992_8317111285056794_n.jpg?stp=dst-jpg_p100x100&_nc_cat=1&ccb=1-7&_nc_sid=99fcfb&_nc_ohc=zMiYvoFzoPwAX9udv-3&_nc_ad=z-m&_nc_cid=0&_nc_ht=scontent.xx&oh=00_AfDvuFZbzqblOLfXUaFRe8NehBc7-iIjofjoY7SkHb7k4w&oe=645F1F98',\n",
       " 'https://scontent.xx.fbcdn.net/v/t39.30808-1/333912569_235301162258992_8317111285056794_n.jpg?stp=dst-jpg_p100x100&_nc_cat=1&ccb=1-7&_nc_sid=99fcfb&_nc_ohc=zMiYvoFzoPwAX9udv-3&_nc_ad=z-m&_nc_cid=0&_nc_ht=scontent.xx&oh=00_AfDvuFZbzqblOLfXUaFRe8NehBc7-iIjofjoY7SkHb7k4w&oe=645F1F98',\n",
       " 'https://scontent.xx.fbcdn.net/v/t39.30808-1/333912569_235301162258992_8317111285056794_n.jpg?stp=dst-jpg_p100x100&_nc_cat=1&ccb=1-7&_nc_sid=99fcfb&_nc_ohc=zMiYvoFzoPwAX9udv-3&_nc_ad=z-m&_nc_cid=0&_nc_ht=scontent.xx&oh=00_AfDvuFZbzqblOLfXUaFRe8NehBc7-iIjofjoY7SkHb7k4w&oe=645F1F98',\n",
       " 'https://scontent.xx.fbcdn.net/v/t39.30808-1/333912569_235301162258992_8317111285056794_n.jpg?stp=dst-jpg_p100x100&_nc_cat=1&ccb=1-7&_nc_sid=99fcfb&_nc_ohc=zMiYvoFzoPwAX9udv-3&_nc_ad=z-m&_nc_cid=0&_nc_ht=scontent.xx&oh=00_AfDvuFZbzqblOLfXUaFRe8NehBc7-iIjofjoY7SkHb7k4w&oe=645F1F98',\n",
       " 'https://scontent.xx.fbcdn.net/v/t39.30808-1/333912569_235301162258992_8317111285056794_n.jpg?stp=dst-jpg_p100x100&_nc_cat=1&ccb=1-7&_nc_sid=99fcfb&_nc_ohc=zMiYvoFzoPwAX9udv-3&_nc_ad=z-m&_nc_cid=0&_nc_ht=scontent.xx&oh=00_AfDvuFZbzqblOLfXUaFRe8NehBc7-iIjofjoY7SkHb7k4w&oe=645F1F98',\n",
       " 'https://scontent.xx.fbcdn.net/v/t39.30808-1/333912569_235301162258992_8317111285056794_n.jpg?stp=dst-jpg_p100x100&_nc_cat=1&ccb=1-7&_nc_sid=99fcfb&_nc_ohc=zMiYvoFzoPwAX9udv-3&_nc_ad=z-m&_nc_cid=0&_nc_ht=scontent.xx&oh=00_AfDvuFZbzqblOLfXUaFRe8NehBc7-iIjofjoY7SkHb7k4w&oe=645F1F98']"
      ]
     },
     "execution_count": 7,
     "metadata": {},
     "output_type": "execute_result"
    }
   ],
   "source": [
    " images"
   ]
  },
  {
   "attachments": {},
   "cell_type": "markdown",
   "metadata": {},
   "source": [
    "### Step 4: Create a new directory in the current folder\n",
    "\n",
    "\n",
    "using OS path"
   ]
  },
  {
   "cell_type": "code",
   "execution_count": 8,
   "metadata": {},
   "outputs": [],
   "source": [
    "\n",
    "import os\n",
    "\n",
    "path = os.getcwd()\n",
    "path = os.path.join(path, \"FB_SCRAPED\")\n",
    "\n",
    "#create the directory\n",
    "os.mkdir(path)"
   ]
  },
  {
   "attachments": {},
   "cell_type": "markdown",
   "metadata": {},
   "source": [
    "### Step 5: Save all the photos in the new directory\n",
    "\n",
    "Using wget"
   ]
  },
  {
   "cell_type": "code",
   "execution_count": 9,
   "metadata": {},
   "outputs": [],
   "source": [
    "import wget\n",
    "\n",
    "#download images\n",
    "counter = 0\n",
    "for image in images:\n",
    "    save_as = os.path.join(path, str(counter) + '.jpg')\n",
    "    wget.download(image, save_as)\n",
    "    counter += 1"
   ]
  },
  {
   "cell_type": "code",
   "execution_count": null,
   "metadata": {},
   "outputs": [],
   "source": []
  }
 ],
 "metadata": {
  "kernelspec": {
   "display_name": "Python 3 (ipykernel)",
   "language": "python",
   "name": "python3"
  },
  "language_info": {
   "codemirror_mode": {
    "name": "ipython",
    "version": 3
   },
   "file_extension": ".py",
   "mimetype": "text/x-python",
   "name": "python",
   "nbconvert_exporter": "python",
   "pygments_lexer": "ipython3",
   "version": "3.10.6"
  }
 },
 "nbformat": 4,
 "nbformat_minor": 4
}

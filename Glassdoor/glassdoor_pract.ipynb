{
 "cells": [
  {
   "cell_type": "code",
   "execution_count": 2,
   "metadata": {},
   "outputs": [
    {
     "ename": "AttributeError",
     "evalue": "'WebDriver' object has no attribute 'find_elements_by_class_name'",
     "output_type": "error",
     "traceback": [
      "\u001b[1;31m---------------------------------------------------------------------------\u001b[0m",
      "\u001b[1;31mAttributeError\u001b[0m                            Traceback (most recent call last)",
      "Cell \u001b[1;32mIn [2], line 25\u001b[0m\n\u001b[0;32m     22\u001b[0m time\u001b[39m.\u001b[39msleep(\u001b[39m5\u001b[39m)\n\u001b[0;32m     24\u001b[0m \u001b[39m# Find the job listings on the page\u001b[39;00m\n\u001b[1;32m---> 25\u001b[0m job_listings \u001b[39m=\u001b[39m driver\u001b[39m.\u001b[39mfind_elements_by_class_name(\u001b[39m\"\u001b[39m\u001b[39mjobLink\u001b[39m\u001b[39m\"\u001b[39m)\n\u001b[0;32m     27\u001b[0m \u001b[39m# Iterate through the job listings\u001b[39;00m\n\u001b[0;32m     28\u001b[0m \u001b[39mfor\u001b[39;00m job \u001b[39min\u001b[39;00m job_listings:\n\u001b[0;32m     29\u001b[0m     \u001b[39m# Extract the job title and company name\u001b[39;00m\n",
      "\u001b[1;31mAttributeError\u001b[0m: 'WebDriver' object has no attribute 'find_elements_by_class_name'"
     ]
    }
   ],
   "source": [
    "import time\n",
    "\n",
    "from selenium import webdriver\n",
    "from selenium.webdriver.chrome.service import Service\n",
    "from selenium.webdriver.common.by import By\n",
    "from selenium.webdriver.support.ui import WebDriverWait\n",
    "from selenium.webdriver.support import expected_conditions as EC\n",
    "\n",
    "# Replace \"keyword\" with the job position the user is searching for\n",
    "keyword = input(\"Enter a job position to search for: \")\n",
    "\n",
    "# Set up the web driver\n",
    "service = Service('A:\\Webscrappers\\chromedriver.exe')\n",
    "service.start()\n",
    "\n",
    "driver = webdriver.Chrome(service=service)\n",
    "\n",
    "# Navigate to the Glassdoor website\n",
    "driver.get(f\"https://www.glassdoor.com/Job/{keyword}-jobs-SRCH_KO0,14.htm?suggestCount=0&suggestChosen=false&clickSource=searchBtn\")\n",
    "\n",
    "# Wait for the page to fully load\n",
    "time.sleep(5)\n",
    "\n",
    "# Find the job listings on the page\n",
    "job_listings = driver.find_elements_by_class_name(\"jobLink\")\n",
    "\n",
    "# Iterate through the job listings\n",
    "for job in job_listings:\n",
    "    # Extract the job title and company name\n",
    "    title = job.find_element_by_class_name(\"jobLink\").text\n",
    "    company = job.find_element_by_class_name(\"jobLink\").text\n",
    "\n",
    "    # Print the job details\n",
    "    print(f\"Title: {title}\")\n",
    "    print(f\"Company: {company}\")\n",
    "\n",
    "# Close the web driver\n",
    "driver.close()\n"
   ]
  }
 ],
 "metadata": {
  "kernelspec": {
   "display_name": "webscrapper",
   "language": "python",
   "name": "python3"
  },
  "language_info": {
   "codemirror_mode": {
    "name": "ipython",
    "version": 3
   },
   "file_extension": ".py",
   "mimetype": "text/x-python",
   "name": "python",
   "nbconvert_exporter": "python",
   "pygments_lexer": "ipython3",
   "version": "3.10.6"
  },
  "orig_nbformat": 4,
  "vscode": {
   "interpreter": {
    "hash": "a5de0eb3511747baffff99c3af738513a637dd1c1167328c5fd178c6b127ed74"
   }
  }
 },
 "nbformat": 4,
 "nbformat_minor": 2
}
